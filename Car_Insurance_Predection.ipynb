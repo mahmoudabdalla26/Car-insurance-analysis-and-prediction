{
 "cells": [
  {
   "cell_type": "code",
   "execution_count": 41,
   "metadata": {},
   "outputs": [],
   "source": [
    "# Import Libraries\n",
    "import pandas as pd\n",
    "import numpy as np\n",
    "from sklearn.model_selection import train_test_split\n",
    "from imblearn.combine import SMOTEENN\n",
    "from collections import Counter\n",
    "from sklearn.preprocessing import StandardScaler, OneHotEncoder\n",
    "from sklearn.ensemble import RandomForestClassifier\n",
    "from xgboost import XGBClassifier\n",
    "from sklearn.tree import DecisionTreeClassifier\n",
    "from sklearn.neighbors import KNeighborsClassifier\n",
    "from sklearn.ensemble import GradientBoostingClassifier\n",
    "from sklearn.metrics import confusion_matrix, ConfusionMatrixDisplay, classification_report, accuracy_score, precision_recall_fscore_support\n",
    "import matplotlib.pyplot as plt\n",
    "import seaborn as sns\n",
    "import matplotlib.pyplot as plt\n",
    "from sklearn.compose import ColumnTransformer\n",
    "from imblearn.pipeline import Pipeline as ImbPipeline  # Use imbalanced-learn's Pipeline for resampling\n",
    "import joblib\n",
    "import pickle"
   ]
  },
  {
   "cell_type": "code",
   "execution_count": 42,
   "metadata": {},
   "outputs": [],
   "source": [
    "# Load data\n",
    "data = pd.read_csv(r\"C:\\Users\\Lenovo\\Desktop\\final_project\\car_insurance\\Sourse\\cleaned_data.csv\")\n",
    "# Drop 'policy_id' column\n",
    "data.drop(['engine_type','area_cluster', 'population_density', 'make', 'model'], axis=1, inplace=True)"
   ]
  },
  {
   "cell_type": "code",
   "execution_count": 43,
   "metadata": {},
   "outputs": [],
   "source": [
    "# Split data into features and target variable\n",
    "X = data.drop('is_claim', axis=1)\n",
    "y = data['is_claim']\n",
    "\n",
    "# Identify numerical and categorical columns\n",
    "numerical_columns = X.select_dtypes([\"float64\", \"int64\"]).columns\n",
    "categorical_columns = X.select_dtypes([\"object\"]).columns\n",
    "\n",
    "# Define the preprocessor\n",
    "preprocessor = ColumnTransformer(\n",
    "    transformers=[\n",
    "        ('num', StandardScaler(), numerical_columns),\n",
    "        ('cat', OneHotEncoder(), categorical_columns)\n",
    "    ]\n",
    ")\n",
    "X = preprocessor.fit_transform(X)"
   ]
  },
  {
   "cell_type": "code",
   "execution_count": 44,
   "metadata": {},
   "outputs": [
    {
     "name": "stdout",
     "output_type": "stream",
     "text": [
      "Resampled dataset shape Counter({1: 39932, 0: 35472})\n"
     ]
    }
   ],
   "source": [
    "# Handle class imbalance using SMOTEENN\n",
    "smt = SMOTEENN()\n",
    "X, y = smt.fit_resample(X, y)\n",
    "print('Resampled dataset shape {}'.format(Counter(y)))\n"
   ]
  },
  {
   "cell_type": "code",
   "execution_count": 45,
   "metadata": {},
   "outputs": [],
   "source": [
    "# Split data into training and testing sets\n",
    "X_train, X_test, y_train, y_test = train_test_split(X, y, test_size=0.2)"
   ]
  },
  {
   "cell_type": "code",
   "execution_count": 46,
   "metadata": {},
   "outputs": [],
   "source": [
    "# Scale features using StandardScaler\n",
    "sc = StandardScaler()\n",
    "X_train_scaled = sc.fit_transform(X_train)\n",
    "X_test_scaled = sc.transform(X_test)\n"
   ]
  },
  {
   "cell_type": "code",
   "execution_count": 47,
   "metadata": {},
   "outputs": [],
   "source": [
    "# Define models\n",
    "models = {\n",
    "    'Random Forest': RandomForestClassifier(),\n",
    "    'XGBoost': XGBClassifier(),\n",
    "    'Decision Tree': DecisionTreeClassifier(),\n",
    "    'KNN': KNeighborsClassifier(),\n",
    "    'Gradient Boosting': GradientBoostingClassifier()\n",
    "}\n"
   ]
  },
  {
   "cell_type": "code",
   "execution_count": 48,
   "metadata": {},
   "outputs": [
    {
     "name": "stdout",
     "output_type": "stream",
     "text": [
      "Model: Random Forest\n",
      "Confusion Matrix:\n",
      "[[6826  233]\n",
      " [ 227 7795]]\n",
      "Classification Report:\n",
      "              precision    recall  f1-score   support\n",
      "\n",
      "           0       0.97      0.97      0.97      7059\n",
      "           1       0.97      0.97      0.97      8022\n",
      "\n",
      "    accuracy                           0.97     15081\n",
      "   macro avg       0.97      0.97      0.97     15081\n",
      "weighted avg       0.97      0.97      0.97     15081\n",
      "\n",
      "Accuracy Score: 0.9694980438962933\n",
      "\n",
      "Model: XGBoost\n",
      "Confusion Matrix:\n",
      "[[6720  339]\n",
      " [ 975 7047]]\n",
      "Classification Report:\n",
      "              precision    recall  f1-score   support\n",
      "\n",
      "           0       0.87      0.95      0.91      7059\n",
      "           1       0.95      0.88      0.91      8022\n",
      "\n",
      "    accuracy                           0.91     15081\n",
      "   macro avg       0.91      0.92      0.91     15081\n",
      "weighted avg       0.92      0.91      0.91     15081\n",
      "\n",
      "Accuracy Score: 0.9128704993037597\n",
      "\n",
      "Model: Decision Tree\n",
      "Confusion Matrix:\n",
      "[[6527  532]\n",
      " [ 434 7588]]\n",
      "Classification Report:\n",
      "              precision    recall  f1-score   support\n",
      "\n",
      "           0       0.94      0.92      0.93      7059\n",
      "           1       0.93      0.95      0.94      8022\n",
      "\n",
      "    accuracy                           0.94     15081\n",
      "   macro avg       0.94      0.94      0.94     15081\n",
      "weighted avg       0.94      0.94      0.94     15081\n",
      "\n",
      "Accuracy Score: 0.935945892182216\n",
      "\n",
      "Model: KNN\n",
      "Confusion Matrix:\n",
      "[[6424  635]\n",
      " [ 110 7912]]\n",
      "Classification Report:\n",
      "              precision    recall  f1-score   support\n",
      "\n",
      "           0       0.98      0.91      0.95      7059\n",
      "           1       0.93      0.99      0.96      8022\n",
      "\n",
      "    accuracy                           0.95     15081\n",
      "   macro avg       0.95      0.95      0.95     15081\n",
      "weighted avg       0.95      0.95      0.95     15081\n",
      "\n",
      "Accuracy Score: 0.9506000928320403\n",
      "\n",
      "Model: Gradient Boosting\n",
      "Confusion Matrix:\n",
      "[[5051 2008]\n",
      " [1171 6851]]\n",
      "Classification Report:\n",
      "              precision    recall  f1-score   support\n",
      "\n",
      "           0       0.81      0.72      0.76      7059\n",
      "           1       0.77      0.85      0.81      8022\n",
      "\n",
      "    accuracy                           0.79     15081\n",
      "   macro avg       0.79      0.78      0.79     15081\n",
      "weighted avg       0.79      0.79      0.79     15081\n",
      "\n",
      "Accuracy Score: 0.7892049598832969\n",
      "\n"
     ]
    }
   ],
   "source": [
    "# Train and evaluate models\n",
    "results = {}\n",
    "\n",
    "for name, model in models.items():\n",
    "    model.fit(X_train, y_train)\n",
    "    y_pred = model.predict(X_test)\n",
    "    \n",
    "    # Store results\n",
    "    results[name] = {\n",
    "        'confusion_matrix': confusion_matrix(y_test, y_pred),\n",
    "        'classification_report': classification_report(y_test, y_pred),\n",
    "        'accuracy_score': accuracy_score(y_test, y_pred)\n",
    "    }\n",
    "\n",
    "# Print results\n",
    "for name, metrics in results.items():\n",
    "    print(f\"Model: {name}\")\n",
    "    print(\"Confusion Matrix:\")\n",
    "    print(metrics['confusion_matrix'])\n",
    "    print(\"Classification Report:\")\n",
    "    print(metrics['classification_report'])\n",
    "    print(f\"Accuracy Score: {metrics['accuracy_score']}\\n\")\n"
   ]
  },
  {
   "cell_type": "code",
   "execution_count": 49,
   "metadata": {},
   "outputs": [
    {
     "name": "stdout",
     "output_type": "stream",
     "text": [
      "Random Forest Accuracy: 0.9690\n",
      "XGBoost Accuracy: 0.9129\n",
      "Decision Tree Accuracy: 0.9367\n",
      "KNN Accuracy: 0.9506\n",
      "Gradient Boosting Accuracy: 0.7892\n",
      "Best Model: Random Forest with Accuracy: 0.9690\n"
     ]
    }
   ],
   "source": [
    "# Ensure 'results' is correctly populated with model names and their accuracy scores\n",
    "results = {}\n",
    "for name, model in models.items():\n",
    "    model.fit(X_train, y_train)\n",
    "    predictions = model.predict(X_test)\n",
    "    accuracy = accuracy_score(y_test, predictions)\n",
    "    results[name] = accuracy\n",
    "    print(f\"{name} Accuracy: {accuracy:.4f}\")\n",
    "\n",
    "# Choose the best model based on accuracy scores\n",
    "best_model_name = max(results, key=lambda k: results[k])\n",
    "best_model = models[best_model_name]\n",
    "\n",
    "print(f\"Best Model: {best_model_name} with Accuracy: {results[best_model_name]:.4f}\")\n",
    "\n"
   ]
  },
  {
   "cell_type": "markdown",
   "metadata": {},
   "source": [
    "# Best Model Is Random Forest"
   ]
  },
  {
   "cell_type": "code",
   "execution_count": 50,
   "metadata": {},
   "outputs": [],
   "source": [
    "model = RandomForestClassifier(bootstrap=False,\n",
    "    max_depth=None,\n",
    "    min_samples_leaf=1,\n",
    "    min_samples_split=2,\n",
    "    n_estimators=100)\n",
    "model.fit(X_train, y_train)\n",
    "y_pred = model.predict(X_test)"
   ]
  },
  {
   "cell_type": "code",
   "execution_count": 51,
   "metadata": {},
   "outputs": [
    {
     "name": "stdout",
     "output_type": "stream",
     "text": [
      "Classification Report:\n",
      "              precision    recall  f1-score   support\n",
      "\n",
      "           0       0.97      0.97      0.97      7059\n",
      "           1       0.98      0.97      0.97      8022\n",
      "\n",
      "    accuracy                           0.97     15081\n",
      "   macro avg       0.97      0.97      0.97     15081\n",
      "weighted avg       0.97      0.97      0.97     15081\n",
      "\n",
      "0.971222067502155\n"
     ]
    }
   ],
   "source": [
    "print(\"Classification Report:\")\n",
    "print(classification_report(y_test, y_pred))\n",
    "print(accuracy_score(y_test, y_pred))"
   ]
  },
  {
   "cell_type": "code",
   "execution_count": 52,
   "metadata": {},
   "outputs": [
    {
     "data": {
      "image/png": "[encoded data removed]",
      "text/plain": [
       "<Figure size 640x480 with 2 Axes>"
      ]
     },
     "metadata": {},
     "output_type": "display_data"
    }
   ],
   "source": [
    "# Confusion Matrix\n",
    "cm = confusion_matrix(y_test, y_pred)\n",
    "disp = ConfusionMatrixDisplay(confusion_matrix=cm)\n",
    "disp.plot(cmap=plt.cm.Blues)\n",
    "plt.title('Confusion Matrix')\n",
    "plt.show()"
   ]
  },
  {
   "cell_type": "code",
   "execution_count": 53,
   "metadata": {},
   "outputs": [],
   "source": [
    "# # Save the preprocessor and model to a file\n",
    "# joblib.dump(model,'model.pkl')\n",
    "# joblib.dump(preprocessor, 'preprocessor.pkl')\n"
   ]
  }
 ],
 "metadata": {
  "kernelspec": {
   "display_name": "Python 3",
   "language": "python",
   "name": "python3"
  },
  "language_info": {
   "codemirror_mode": {
    "name": "ipython",
    "version": 3
   },
   "file_extension": ".py",
   "mimetype": "text/x-python",
   "name": "python",
   "nbconvert_exporter": "python",
   "pygments_lexer": "ipython3",
   "version": "3.10.11"
  }
 },
 "nbformat": 4,
 "nbformat_minor": 2
}
